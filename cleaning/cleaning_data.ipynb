{
 "cells": [
  {
   "cell_type": "code",
   "execution_count": null,
   "id": "40fc95c1-745b-4d3e-8211-32d5a44ef3bd",
   "metadata": {},
   "outputs": [],
   "source": [
    "#import libraries\n",
    "import pandas as pd\n",
    "from datetime import datetime\n",
    "import matplotlib.pyplot as plt\n",
    "import numpy as np\n",
    "from fim import arules\n",
    "from operator import attrgetter\n",
    "from fim import apriori"
   ]
  },
  {
   "cell_type": "code",
   "execution_count": null,
   "id": "be2cfaea-09fd-4caa-85c7-4d185508d73f",
   "metadata": {},
   "outputs": [],
   "source": [
    "#We read all csv files\n",
    "df_customers = pd.read_csv(\"olist_customers_dataset.csv\")\n",
    "df_geo = pd.read_csv(\"olist_geolocation_dataset.csv\")\n",
    "df_items = pd.read_csv(\"olist_order_items_dataset.csv\")\n",
    "df_payments = pd.read_csv(\"olist_order_payments_dataset.csv\")\n",
    "df_orders = pd.read_csv(\"olist_orders_dataset.csv\")\n",
    "df_products = pd.read_csv(\"olist_products_dataset.csv\")\n",
    "df_sellers = pd.read_csv(\"olist_sellers_dataset.csv\")\n",
    "product_category_name = pd.read_csv(\"product_category_name_translation.csv\")"
   ]
  },
  {
   "cell_type": "code",
   "execution_count": null,
   "id": "33403a58-7085-45a6-9079-d241c2077af3",
   "metadata": {},
   "outputs": [],
   "source": [
    "#We merge all the csv files to create a total DataFrame\n",
    "df = df_orders.merge(df_items, on='order_id', how='inner')\n",
    "df = df.merge(df_payments, on='order_id', how='inner', validate='m:m')\n",
    "df = df.merge(df_products, on='product_id', how='inner')\n",
    "df = df.merge(df_customers, on='customer_id', how='inner')\n",
    "df = df.merge(df_sellers, on='seller_id', how='inner')"
   ]
  },
  {
   "cell_type": "code",
   "execution_count": null,
   "id": "448932e8-fcae-4a20-b0a3-cdd1204aa9bb",
   "metadata": {},
   "outputs": [],
   "source": [
    "# Get the info of the DataFrame\n",
    "df.info()"
   ]
  },
  {
   "cell_type": "code",
   "execution_count": null,
   "id": "824d3a84-cea3-44c2-9fd6-d6d74b014acf",
   "metadata": {},
   "outputs": [],
   "source": [
    "#Check the nulls of the DataFrame\n",
    "df.isna().sum()"
   ]
  },
  {
   "cell_type": "code",
   "execution_count": null,
   "id": "ef9f7a00-3f1e-40d2-95fc-7a0cede58ffa",
   "metadata": {},
   "outputs": [],
   "source": [
    "#We drop all nulls because our analysis isn't based in the columns that have nulls\n",
    "df_clean = df.dropna()\n",
    "df_clean.info()"
   ]
  },
  {
   "cell_type": "code",
   "execution_count": null,
   "id": "ef8230b7-41ca-427b-84e6-0980bb188e39",
   "metadata": {},
   "outputs": [],
   "source": [
    "#We drop columns that are useless\n",
    "df_clean.drop(columns = [\"product_name_lenght\",\"product_description_lenght\",\"product_photos_qty\",\"product_weight_g\",\"product_length_cm\",\"product_height_cm\",\"product_width_cm\"],inplace=True)"
   ]
  },
  {
   "cell_type": "code",
   "execution_count": null,
   "id": "5fb40afc-8842-46d3-aaca-086ffb562546",
   "metadata": {},
   "outputs": [],
   "source": [
    "df_clean.info()"
   ]
  },
  {
   "cell_type": "code",
   "execution_count": null,
   "id": "40757955-f38e-4691-906a-b43068137a72",
   "metadata": {},
   "outputs": [],
   "source": [
    "#We transform specific columns in datetime format\n",
    "df_clean['order_purchase_timestamp']=pd.to_datetime(df_clean['order_purchase_timestamp'])\n",
    "df_clean['order_approved_at']=pd.to_datetime(df_clean['order_approved_at'])\n",
    "df_clean['order_delivered_carrier_date']=pd.to_datetime(df_clean['order_delivered_carrier_date'])\n",
    "df_clean['order_delivered_customer_date']=pd.to_datetime(df_clean['order_delivered_customer_date'])\n",
    "df_clean['order_estimated_delivery_date']=pd.to_datetime(df_clean['order_estimated_delivery_date'])"
   ]
  },
  {
   "cell_type": "code",
   "execution_count": null,
   "id": "b4ddc700-1377-458c-a8fd-501f88d3ffa7",
   "metadata": {},
   "outputs": [],
   "source": [
    "df_clean.info()"
   ]
  },
  {
   "cell_type": "code",
   "execution_count": null,
   "id": "4ae7ab8e-295a-413e-9bdc-cc4705fce3f4",
   "metadata": {},
   "outputs": [],
   "source": []
  },
  {
   "cell_type": "code",
   "execution_count": null,
   "id": "1ba3c1d0-db0a-4758-bede-29b82a3f65e4",
   "metadata": {},
   "outputs": [],
   "source": []
  },
  {
   "cell_type": "code",
   "execution_count": null,
   "id": "e129ad74-e29c-46fb-97ef-21bf7b0fea70",
   "metadata": {},
   "outputs": [],
   "source": []
  }
 ],
 "metadata": {
  "kernelspec": {
   "display_name": "Python 3 (ipykernel)",
   "language": "python",
   "name": "python3"
  },
  "language_info": {
   "codemirror_mode": {
    "name": "ipython",
    "version": 3
   },
   "file_extension": ".py",
   "mimetype": "text/x-python",
   "name": "python",
   "nbconvert_exporter": "python",
   "pygments_lexer": "ipython3",
   "version": "3.12.7"
  }
 },
 "nbformat": 4,
 "nbformat_minor": 5
}
